{
  "cells": [
    {
      "cell_type": "code",
      "source": [
        "'''\n",
        "Spark Mini Project\n",
        "By Suresh Gedela (Id: 2113235)\n",
        "'''"
      ],
      "metadata": {
        "colab": {
          "base_uri": "https://localhost:8080/",
          "height": 36
        },
        "id": "TG0aBYSjQtnG",
        "outputId": "18cead4f-6ade-487a-d57f-8844aa0f701c"
      },
      "execution_count": 1,
      "outputs": [
        {
          "output_type": "execute_result",
          "data": {
            "text/plain": [
              "'\\nSpark Mini Project\\nBy Suresh Gedela (Id: 2113235)\\n'"
            ],
            "application/vnd.google.colaboratory.intrinsic+json": {
              "type": "string"
            }
          },
          "metadata": {},
          "execution_count": 1
        }
      ]
    },
    {
      "cell_type": "code",
      "source": [
        "!pip install pyspark"
      ],
      "metadata": {
        "colab": {
          "base_uri": "https://localhost:8080/"
        },
        "id": "FMkdE0j1RGNA",
        "outputId": "98cf9dd6-b4d1-400c-80f8-b41c8a6f56cd"
      },
      "execution_count": 4,
      "outputs": [
        {
          "output_type": "stream",
          "name": "stdout",
          "text": [
            "Looking in indexes: https://pypi.org/simple, https://us-python.pkg.dev/colab-wheels/public/simple/\n",
            "Collecting pyspark\n",
            "  Downloading pyspark-3.2.1.tar.gz (281.4 MB)\n",
            "\u001b[K     |████████████████████████████████| 281.4 MB 28 kB/s \n",
            "\u001b[?25hCollecting py4j==0.10.9.3\n",
            "  Downloading py4j-0.10.9.3-py2.py3-none-any.whl (198 kB)\n",
            "\u001b[K     |████████████████████████████████| 198 kB 28.1 MB/s \n",
            "\u001b[?25hBuilding wheels for collected packages: pyspark\n",
            "  Building wheel for pyspark (setup.py) ... \u001b[?25l\u001b[?25hdone\n",
            "  Created wheel for pyspark: filename=pyspark-3.2.1-py2.py3-none-any.whl size=281853642 sha256=d750f37a9d84e903688dd1ce710701680d8123060bb37bf4e99b5fffec4edf57\n",
            "  Stored in directory: /root/.cache/pip/wheels/9f/f5/07/7cd8017084dce4e93e84e92efd1e1d5334db05f2e83bcef74f\n",
            "Successfully built pyspark\n",
            "Installing collected packages: py4j, pyspark\n",
            "Successfully installed py4j-0.10.9.3 pyspark-3.2.1\n"
          ]
        }
      ]
    },
    {
      "cell_type": "code",
      "source": [
        "from pyspark.sql import SparkSession\n",
        "from pyspark.sql.functions import avg, round\n",
        "from pyspark.sql.functions import sum\n",
        "from pyspark.sql.functions import count"
      ],
      "metadata": {
        "application/vnd.databricks.v1+cell": {
          "title": "",
          "showTitle": false,
          "inputWidgets": {},
          "nuid": "82bb4b5a-9fb4-4547-9d2a-2747b32f863e"
        },
        "id": "3dOScX_DNvL8"
      },
      "outputs": [],
      "execution_count": 5
    },
    {
      "cell_type": "code",
      "source": [
        "spark = SparkSession.builder.appName('Spark_Case_Study').getOrCreate()"
      ],
      "metadata": {
        "application/vnd.databricks.v1+cell": {
          "title": "",
          "showTitle": false,
          "inputWidgets": {},
          "nuid": "054b8d1d-35cc-4bd4-8547-00efe3091611"
        },
        "id": "etAXbb45NvMC"
      },
      "outputs": [],
      "execution_count": 6
    },
    {
      "cell_type": "code",
      "source": [
        "from google.colab import files\n",
        "uploaded = files.upload()"
      ],
      "metadata": {
        "colab": {
          "resources": {
            "http://localhost:8080/nbextensions/google.colab/files.js": {
              "data": "Ly8gQ29weXJpZ2h0IDIwMTcgR29vZ2xlIExMQwovLwovLyBMaWNlbnNlZCB1bmRlciB0aGUgQXBhY2hlIExpY2Vuc2UsIFZlcnNpb24gMi4wICh0aGUgIkxpY2Vuc2UiKTsKLy8geW91IG1heSBub3QgdXNlIHRoaXMgZmlsZSBleGNlcHQgaW4gY29tcGxpYW5jZSB3aXRoIHRoZSBMaWNlbnNlLgovLyBZb3UgbWF5IG9idGFpbiBhIGNvcHkgb2YgdGhlIExpY2Vuc2UgYXQKLy8KLy8gICAgICBodHRwOi8vd3d3LmFwYWNoZS5vcmcvbGljZW5zZXMvTElDRU5TRS0yLjAKLy8KLy8gVW5sZXNzIHJlcXVpcmVkIGJ5IGFwcGxpY2FibGUgbGF3IG9yIGFncmVlZCB0byBpbiB3cml0aW5nLCBzb2Z0d2FyZQovLyBkaXN0cmlidXRlZCB1bmRlciB0aGUgTGljZW5zZSBpcyBkaXN0cmlidXRlZCBvbiBhbiAiQVMgSVMiIEJBU0lTLAovLyBXSVRIT1VUIFdBUlJBTlRJRVMgT1IgQ09ORElUSU9OUyBPRiBBTlkgS0lORCwgZWl0aGVyIGV4cHJlc3Mgb3IgaW1wbGllZC4KLy8gU2VlIHRoZSBMaWNlbnNlIGZvciB0aGUgc3BlY2lmaWMgbGFuZ3VhZ2UgZ292ZXJuaW5nIHBlcm1pc3Npb25zIGFuZAovLyBsaW1pdGF0aW9ucyB1bmRlciB0aGUgTGljZW5zZS4KCi8qKgogKiBAZmlsZW92ZXJ2aWV3IEhlbHBlcnMgZm9yIGdvb2dsZS5jb2xhYiBQeXRob24gbW9kdWxlLgogKi8KKGZ1bmN0aW9uKHNjb3BlKSB7CmZ1bmN0aW9uIHNwYW4odGV4dCwgc3R5bGVBdHRyaWJ1dGVzID0ge30pIHsKICBjb25zdCBlbGVtZW50ID0gZG9jdW1lbnQuY3JlYXRlRWxlbWVudCgnc3BhbicpOwogIGVsZW1lbnQudGV4dENvbnRlbnQgPSB0ZXh0OwogIGZvciAoY29uc3Qga2V5IG9mIE9iamVjdC5rZXlzKHN0eWxlQXR0cmlidXRlcykpIHsKICAgIGVsZW1lbnQuc3R5bGVba2V5XSA9IHN0eWxlQXR0cmlidXRlc1trZXldOwogIH0KICByZXR1cm4gZWxlbWVudDsKfQoKLy8gTWF4IG51bWJlciBvZiBieXRlcyB3aGljaCB3aWxsIGJlIHVwbG9hZGVkIGF0IGEgdGltZS4KY29uc3QgTUFYX1BBWUxPQURfU0laRSA9IDEwMCAqIDEwMjQ7CgpmdW5jdGlvbiBfdXBsb2FkRmlsZXMoaW5wdXRJZCwgb3V0cHV0SWQpIHsKICBjb25zdCBzdGVwcyA9IHVwbG9hZEZpbGVzU3RlcChpbnB1dElkLCBvdXRwdXRJZCk7CiAgY29uc3Qgb3V0cHV0RWxlbWVudCA9IGRvY3VtZW50LmdldEVsZW1lbnRCeUlkKG91dHB1dElkKTsKICAvLyBDYWNoZSBzdGVwcyBvbiB0aGUgb3V0cHV0RWxlbWVudCB0byBtYWtlIGl0IGF2YWlsYWJsZSBmb3IgdGhlIG5leHQgY2FsbAogIC8vIHRvIHVwbG9hZEZpbGVzQ29udGludWUgZnJvbSBQeXRob24uCiAgb3V0cHV0RWxlbWVudC5zdGVwcyA9IHN0ZXBzOwoKICByZXR1cm4gX3VwbG9hZEZpbGVzQ29udGludWUob3V0cHV0SWQpOwp9CgovLyBUaGlzIGlzIHJvdWdobHkgYW4gYXN5bmMgZ2VuZXJhdG9yIChub3Qgc3VwcG9ydGVkIGluIHRoZSBicm93c2VyIHlldCksCi8vIHdoZXJlIHRoZXJlIGFyZSBtdWx0aXBsZSBhc3luY2hyb25vdXMgc3RlcHMgYW5kIHRoZSBQeXRob24gc2lkZSBpcyBnb2luZwovLyB0byBwb2xsIGZvciBjb21wbGV0aW9uIG9mIGVhY2ggc3RlcC4KLy8gVGhpcyB1c2VzIGEgUHJvbWlzZSB0byBibG9jayB0aGUgcHl0aG9uIHNpZGUgb24gY29tcGxldGlvbiBvZiBlYWNoIHN0ZXAsCi8vIHRoZW4gcGFzc2VzIHRoZSByZXN1bHQgb2YgdGhlIHByZXZpb3VzIHN0ZXAgYXMgdGhlIGlucHV0IHRvIHRoZSBuZXh0IHN0ZXAuCmZ1bmN0aW9uIF91cGxvYWRGaWxlc0NvbnRpbnVlKG91dHB1dElkKSB7CiAgY29uc3Qgb3V0cHV0RWxlbWVudCA9IGRvY3VtZW50LmdldEVsZW1lbnRCeUlkKG91dHB1dElkKTsKICBjb25zdCBzdGVwcyA9IG91dHB1dEVsZW1lbnQuc3RlcHM7CgogIGNvbnN0IG5leHQgPSBzdGVwcy5uZXh0KG91dHB1dEVsZW1lbnQubGFzdFByb21pc2VWYWx1ZSk7CiAgcmV0dXJuIFByb21pc2UucmVzb2x2ZShuZXh0LnZhbHVlLnByb21pc2UpLnRoZW4oKHZhbHVlKSA9PiB7CiAgICAvLyBDYWNoZSB0aGUgbGFzdCBwcm9taXNlIHZhbHVlIHRvIG1ha2UgaXQgYXZhaWxhYmxlIHRvIHRoZSBuZXh0CiAgICAvLyBzdGVwIG9mIHRoZSBnZW5lcmF0b3IuCiAgICBvdXRwdXRFbGVtZW50Lmxhc3RQcm9taXNlVmFsdWUgPSB2YWx1ZTsKICAgIHJldHVybiBuZXh0LnZhbHVlLnJlc3BvbnNlOwogIH0pOwp9CgovKioKICogR2VuZXJhdG9yIGZ1bmN0aW9uIHdoaWNoIGlzIGNhbGxlZCBiZXR3ZWVuIGVhY2ggYXN5bmMgc3RlcCBvZiB0aGUgdXBsb2FkCiAqIHByb2Nlc3MuCiAqIEBwYXJhbSB7c3RyaW5nfSBpbnB1dElkIEVsZW1lbnQgSUQgb2YgdGhlIGlucHV0IGZpbGUgcGlja2VyIGVsZW1lbnQuCiAqIEBwYXJhbSB7c3RyaW5nfSBvdXRwdXRJZCBFbGVtZW50IElEIG9mIHRoZSBvdXRwdXQgZGlzcGxheS4KICogQHJldHVybiB7IUl0ZXJhYmxlPCFPYmplY3Q+fSBJdGVyYWJsZSBvZiBuZXh0IHN0ZXBzLgogKi8KZnVuY3Rpb24qIHVwbG9hZEZpbGVzU3RlcChpbnB1dElkLCBvdXRwdXRJZCkgewogIGNvbnN0IGlucHV0RWxlbWVudCA9IGRvY3VtZW50LmdldEVsZW1lbnRCeUlkKGlucHV0SWQpOwogIGlucHV0RWxlbWVudC5kaXNhYmxlZCA9IGZhbHNlOwoKICBjb25zdCBvdXRwdXRFbGVtZW50ID0gZG9jdW1lbnQuZ2V0RWxlbWVudEJ5SWQob3V0cHV0SWQpOwogIG91dHB1dEVsZW1lbnQuaW5uZXJIVE1MID0gJyc7CgogIGNvbnN0IHBpY2tlZFByb21pc2UgPSBuZXcgUHJvbWlzZSgocmVzb2x2ZSkgPT4gewogICAgaW5wdXRFbGVtZW50LmFkZEV2ZW50TGlzdGVuZXIoJ2NoYW5nZScsIChlKSA9PiB7CiAgICAgIHJlc29sdmUoZS50YXJnZXQuZmlsZXMpOwogICAgfSk7CiAgfSk7CgogIGNvbnN0IGNhbmNlbCA9IGRvY3VtZW50LmNyZWF0ZUVsZW1lbnQoJ2J1dHRvbicpOwogIGlucHV0RWxlbWVudC5wYXJlbnRFbGVtZW50LmFwcGVuZENoaWxkKGNhbmNlbCk7CiAgY2FuY2VsLnRleHRDb250ZW50ID0gJ0NhbmNlbCB1cGxvYWQnOwogIGNvbnN0IGNhbmNlbFByb21pc2UgPSBuZXcgUHJvbWlzZSgocmVzb2x2ZSkgPT4gewogICAgY2FuY2VsLm9uY2xpY2sgPSAoKSA9PiB7CiAgICAgIHJlc29sdmUobnVsbCk7CiAgICB9OwogIH0pOwoKICAvLyBXYWl0IGZvciB0aGUgdXNlciB0byBwaWNrIHRoZSBmaWxlcy4KICBjb25zdCBmaWxlcyA9IHlpZWxkIHsKICAgIHByb21pc2U6IFByb21pc2UucmFjZShbcGlja2VkUHJvbWlzZSwgY2FuY2VsUHJvbWlzZV0pLAogICAgcmVzcG9uc2U6IHsKICAgICAgYWN0aW9uOiAnc3RhcnRpbmcnLAogICAgfQogIH07CgogIGNhbmNlbC5yZW1vdmUoKTsKCiAgLy8gRGlzYWJsZSB0aGUgaW5wdXQgZWxlbWVudCBzaW5jZSBmdXJ0aGVyIHBpY2tzIGFyZSBub3QgYWxsb3dlZC4KICBpbnB1dEVsZW1lbnQuZGlzYWJsZWQgPSB0cnVlOwoKICBpZiAoIWZpbGVzKSB7CiAgICByZXR1cm4gewogICAgICByZXNwb25zZTogewogICAgICAgIGFjdGlvbjogJ2NvbXBsZXRlJywKICAgICAgfQogICAgfTsKICB9CgogIGZvciAoY29uc3QgZmlsZSBvZiBmaWxlcykgewogICAgY29uc3QgbGkgPSBkb2N1bWVudC5jcmVhdGVFbGVtZW50KCdsaScpOwogICAgbGkuYXBwZW5kKHNwYW4oZmlsZS5uYW1lLCB7Zm9udFdlaWdodDogJ2JvbGQnfSkpOwogICAgbGkuYXBwZW5kKHNwYW4oCiAgICAgICAgYCgke2ZpbGUudHlwZSB8fCAnbi9hJ30pIC0gJHtmaWxlLnNpemV9IGJ5dGVzLCBgICsKICAgICAgICBgbGFzdCBtb2RpZmllZDogJHsKICAgICAgICAgICAgZmlsZS5sYXN0TW9kaWZpZWREYXRlID8gZmlsZS5sYXN0TW9kaWZpZWREYXRlLnRvTG9jYWxlRGF0ZVN0cmluZygpIDoKICAgICAgICAgICAgICAgICAgICAgICAgICAgICAgICAgICAgJ24vYSd9IC0gYCkpOwogICAgY29uc3QgcGVyY2VudCA9IHNwYW4oJzAlIGRvbmUnKTsKICAgIGxpLmFwcGVuZENoaWxkKHBlcmNlbnQpOwoKICAgIG91dHB1dEVsZW1lbnQuYXBwZW5kQ2hpbGQobGkpOwoKICAgIGNvbnN0IGZpbGVEYXRhUHJvbWlzZSA9IG5ldyBQcm9taXNlKChyZXNvbHZlKSA9PiB7CiAgICAgIGNvbnN0IHJlYWRlciA9IG5ldyBGaWxlUmVhZGVyKCk7CiAgICAgIHJlYWRlci5vbmxvYWQgPSAoZSkgPT4gewogICAgICAgIHJlc29sdmUoZS50YXJnZXQucmVzdWx0KTsKICAgICAgfTsKICAgICAgcmVhZGVyLnJlYWRBc0FycmF5QnVmZmVyKGZpbGUpOwogICAgfSk7CiAgICAvLyBXYWl0IGZvciB0aGUgZGF0YSB0byBiZSByZWFkeS4KICAgIGxldCBmaWxlRGF0YSA9IHlpZWxkIHsKICAgICAgcHJvbWlzZTogZmlsZURhdGFQcm9taXNlLAogICAgICByZXNwb25zZTogewogICAgICAgIGFjdGlvbjogJ2NvbnRpbnVlJywKICAgICAgfQogICAgfTsKCiAgICAvLyBVc2UgYSBjaHVua2VkIHNlbmRpbmcgdG8gYXZvaWQgbWVzc2FnZSBzaXplIGxpbWl0cy4gU2VlIGIvNjIxMTU2NjAuCiAgICBsZXQgcG9zaXRpb24gPSAwOwogICAgZG8gewogICAgICBjb25zdCBsZW5ndGggPSBNYXRoLm1pbihmaWxlRGF0YS5ieXRlTGVuZ3RoIC0gcG9zaXRpb24sIE1BWF9QQVlMT0FEX1NJWkUpOwogICAgICBjb25zdCBjaHVuayA9IG5ldyBVaW50OEFycmF5KGZpbGVEYXRhLCBwb3NpdGlvbiwgbGVuZ3RoKTsKICAgICAgcG9zaXRpb24gKz0gbGVuZ3RoOwoKICAgICAgY29uc3QgYmFzZTY0ID0gYnRvYShTdHJpbmcuZnJvbUNoYXJDb2RlLmFwcGx5KG51bGwsIGNodW5rKSk7CiAgICAgIHlpZWxkIHsKICAgICAgICByZXNwb25zZTogewogICAgICAgICAgYWN0aW9uOiAnYXBwZW5kJywKICAgICAgICAgIGZpbGU6IGZpbGUubmFtZSwKICAgICAgICAgIGRhdGE6IGJhc2U2NCwKICAgICAgICB9LAogICAgICB9OwoKICAgICAgbGV0IHBlcmNlbnREb25lID0gZmlsZURhdGEuYnl0ZUxlbmd0aCA9PT0gMCA/CiAgICAgICAgICAxMDAgOgogICAgICAgICAgTWF0aC5yb3VuZCgocG9zaXRpb24gLyBmaWxlRGF0YS5ieXRlTGVuZ3RoKSAqIDEwMCk7CiAgICAgIHBlcmNlbnQudGV4dENvbnRlbnQgPSBgJHtwZXJjZW50RG9uZX0lIGRvbmVgOwoKICAgIH0gd2hpbGUgKHBvc2l0aW9uIDwgZmlsZURhdGEuYnl0ZUxlbmd0aCk7CiAgfQoKICAvLyBBbGwgZG9uZS4KICB5aWVsZCB7CiAgICByZXNwb25zZTogewogICAgICBhY3Rpb246ICdjb21wbGV0ZScsCiAgICB9CiAgfTsKfQoKc2NvcGUuZ29vZ2xlID0gc2NvcGUuZ29vZ2xlIHx8IHt9OwpzY29wZS5nb29nbGUuY29sYWIgPSBzY29wZS5nb29nbGUuY29sYWIgfHwge307CnNjb3BlLmdvb2dsZS5jb2xhYi5fZmlsZXMgPSB7CiAgX3VwbG9hZEZpbGVzLAogIF91cGxvYWRGaWxlc0NvbnRpbnVlLAp9Owp9KShzZWxmKTsK",
              "ok": true,
              "headers": [
                [
                  "content-type",
                  "application/javascript"
                ]
              ],
              "status": 200,
              "status_text": ""
            }
          },
          "base_uri": "https://localhost:8080/",
          "height": 74
        },
        "id": "RNNrICgXYq4g",
        "outputId": "a701eb69-f6e5-4f84-e11b-92d8cf6c37eb"
      },
      "execution_count": 16,
      "outputs": [
        {
          "output_type": "display_data",
          "data": {
            "text/plain": [
              "<IPython.core.display.HTML object>"
            ],
            "text/html": [
              "\n",
              "     <input type=\"file\" id=\"files-e0f1db1b-3d5e-499b-baf3-75e1ef2e1a84\" name=\"files[]\" multiple disabled\n",
              "        style=\"border:none\" />\n",
              "     <output id=\"result-e0f1db1b-3d5e-499b-baf3-75e1ef2e1a84\">\n",
              "      Upload widget is only available when the cell has been executed in the\n",
              "      current browser session. Please rerun this cell to enable.\n",
              "      </output>\n",
              "      <script src=\"/nbextensions/google.colab/files.js\"></script> "
            ]
          },
          "metadata": {}
        },
        {
          "output_type": "stream",
          "name": "stdout",
          "text": [
            "Saving 2007.csv.bz2 to 2007.csv.bz2\n"
          ]
        }
      ]
    },
    {
      "cell_type": "code",
      "source": [
        "df = spark.read.options(inferSchema='True', header='True', delimiter=',').csv(\"2007.csv.bz2\")\n",
        "df.show()"
      ],
      "metadata": {
        "application/vnd.databricks.v1+cell": {
          "title": "",
          "showTitle": false,
          "inputWidgets": {},
          "nuid": "cabbf9c9-f818-4016-867e-1055c56156f5"
        },
        "colab": {
          "base_uri": "https://localhost:8080/"
        },
        "id": "6DRLuGoxNvME",
        "outputId": "63fe54d5-1848-4c8c-a044-ebf4f5765d7c"
      },
      "outputs": [
        {
          "output_type": "stream",
          "name": "stdout",
          "text": [
            "+----+-----+----------+---------+-------+----------+-------+----------+-------------+---------+-------+-----------------+--------------+-------+--------+--------+------+----+--------+------+-------+---------+----------------+--------+------------+------------+--------+-------------+-----------------+\n",
            "|Year|Month|DayofMonth|DayOfWeek|DepTime|CRSDepTime|ArrTime|CRSArrTime|UniqueCarrier|FlightNum|TailNum|ActualElapsedTime|CRSElapsedTime|AirTime|ArrDelay|DepDelay|Origin|Dest|Distance|TaxiIn|TaxiOut|Cancelled|CancellationCode|Diverted|CarrierDelay|WeatherDelay|NASDelay|SecurityDelay|LateAircraftDelay|\n",
            "+----+-----+----------+---------+-------+----------+-------+----------+-------------+---------+-------+-----------------+--------------+-------+--------+--------+------+----+--------+------+-------+---------+----------------+--------+------------+------------+--------+-------------+-----------------+\n",
            "|2007|    1|         1|        1|   1232|      1225|   1341|      1340|           WN|     2891|   N351|               69|            75|     54|       1|       7|   SMF| ONT|     389|     4|     11|        0|            null|       0|           0|           0|       0|            0|                0|\n",
            "|2007|    1|         1|        1|   1918|      1905|   2043|      2035|           WN|      462|   N370|               85|            90|     74|       8|      13|   SMF| PDX|     479|     5|      6|        0|            null|       0|           0|           0|       0|            0|                0|\n",
            "|2007|    1|         1|        1|   2206|      2130|   2334|      2300|           WN|     1229|   N685|               88|            90|     73|      34|      36|   SMF| PDX|     479|     6|      9|        0|            null|       0|           3|           0|       0|            0|               31|\n",
            "|2007|    1|         1|        1|   1230|      1200|   1356|      1330|           WN|     1355|   N364|               86|            90|     75|      26|      30|   SMF| PDX|     479|     3|      8|        0|            null|       0|          23|           0|       0|            0|                3|\n",
            "|2007|    1|         1|        1|    831|       830|    957|      1000|           WN|     2278|   N480|               86|            90|     74|      -3|       1|   SMF| PDX|     479|     3|      9|        0|            null|       0|           0|           0|       0|            0|                0|\n",
            "|2007|    1|         1|        1|   1430|      1420|   1553|      1550|           WN|     2386| N611SW|               83|            90|     74|       3|      10|   SMF| PDX|     479|     2|      7|        0|            null|       0|           0|           0|       0|            0|                0|\n",
            "|2007|    1|         1|        1|   1936|      1840|   2217|      2130|           WN|      409|   N482|              101|           110|     89|      47|      56|   SMF| PHX|     647|     5|      7|        0|            null|       0|          46|           0|       0|            0|                1|\n",
            "|2007|    1|         1|        1|    944|       935|   1223|      1225|           WN|     1131| N749SW|               99|           110|     86|      -2|       9|   SMF| PHX|     647|     4|      9|        0|            null|       0|           0|           0|       0|            0|                0|\n",
            "|2007|    1|         1|        1|   1537|      1450|   1819|      1735|           WN|     1212|   N451|              102|           105|     90|      44|      47|   SMF| PHX|     647|     5|      7|        0|            null|       0|          20|           0|       0|            0|               24|\n",
            "|2007|    1|         1|        1|   1318|      1315|   1603|      1610|           WN|     2456| N630WN|              105|           115|     92|      -7|       3|   SMF| PHX|     647|     5|      8|        0|            null|       0|           0|           0|       0|            0|                0|\n",
            "|2007|    1|         1|        1|    836|       835|   1119|      1130|           WN|     2575|   N493|              103|           115|     88|     -11|       1|   SMF| PHX|     647|     7|      8|        0|            null|       0|           0|           0|       0|            0|                0|\n",
            "|2007|    1|         1|        1|   2047|      1955|   2332|      2240|           WN|     2608| N733SW|              105|           105|     89|      52|      52|   SMF| PHX|     647|     7|      9|        0|            null|       0|          49|           0|       0|            0|                3|\n",
            "|2007|    1|         1|        1|   2128|      2035|   2245|      2200|           WN|      139|   N348|               77|            85|     66|      45|      53|   SMF| SAN|     480|     3|      8|        0|            null|       0|           0|           0|       3|            0|               42|\n",
            "|2007|    1|         1|        1|    935|       940|   1048|      1105|           WN|      747|   N358|               73|            85|     63|     -17|      -5|   SMF| SAN|     480|     2|      8|        0|            null|       0|           0|           0|       0|            0|                0|\n",
            "|2007|    1|         1|        1|   1251|      1245|   1405|      1410|           WN|      933|   N413|               74|            85|     65|      -5|       6|   SMF| SAN|     480|     2|      7|        0|            null|       0|           0|           0|       0|            0|                0|\n",
            "|2007|    1|         1|        1|   1729|      1645|   1843|      1810|           WN|     1054|   N416|               74|            85|     64|      33|      44|   SMF| SAN|     480|     3|      7|        0|            null|       0|           3|           0|       0|            0|               30|\n",
            "|2007|    1|         1|        1|    825|       825|    941|       950|           WN|     1106| N383SW|               76|            85|     63|      -9|       0|   SMF| SAN|     480|     3|     10|        0|            null|       0|           0|           0|       0|            0|                0|\n",
            "|2007|    1|         1|        1|   1042|      1040|   1158|      1205|           WN|     1554| N316SW|               76|            85|     66|      -7|       2|   SMF| SAN|     480|     2|      8|        0|            null|       0|           0|           0|       0|            0|                0|\n",
            "|2007|    1|         1|        1|   1726|      1725|   1839|      1850|           WN|     1604| N691WN|               73|            85|     63|     -11|       1|   SMF| SAN|     480|     3|      7|        0|            null|       0|           0|           0|       0|            0|                0|\n",
            "|2007|    1|         1|        1|   1849|      1820|   2016|      1940|           WN|     1975| N308SW|               87|            80|     69|      36|      29|   SMF| SAN|     480|     3|     15|        0|            null|       0|          20|           0|       7|            0|                9|\n",
            "+----+-----+----------+---------+-------+----------+-------+----------+-------------+---------+-------+-----------------+--------------+-------+--------+--------+------+----+--------+------+-------+---------+----------------+--------+------------+------------+--------+-------------+-----------------+\n",
            "only showing top 20 rows\n",
            "\n"
          ]
        }
      ],
      "execution_count": 17
    },
    {
      "cell_type": "code",
      "source": [
        "#Requirement 1\n",
        "#Find the most frequent tail number which is getting in destination by maximum\n",
        "\n",
        "df.groupBy(\"Dest\", \"TailNum\") \\\n",
        "  .count() \\\n",
        "  .orderBy(\"count\", ascending=False) \\\n",
        "  .show()"
      ],
      "metadata": {
        "application/vnd.databricks.v1+cell": {
          "title": "",
          "showTitle": false,
          "inputWidgets": {},
          "nuid": "0086eef1-52a4-4f3d-aa32-b6dbe073f0a4"
        },
        "colab": {
          "base_uri": "https://localhost:8080/"
        },
        "id": "7UyfbX6KNvMF",
        "outputId": "da9f0398-31e9-473d-dc46-6b3048b0304d"
      },
      "outputs": [
        {
          "output_type": "stream",
          "name": "stdout",
          "text": [
            "+----+-------+-----+\n",
            "|Dest|TailNum|count|\n",
            "+----+-------+-----+\n",
            "| ORD|      0|11709|\n",
            "| DFW|      0| 9361|\n",
            "| EWR|      0| 5194|\n",
            "| LGA|      0| 3935|\n",
            "| ORD| 000000| 3201|\n",
            "| JFK|      0| 3123|\n",
            "| BOS|      0| 2736|\n",
            "| LAX|      0| 2274|\n",
            "| HNL| N655BR| 2241|\n",
            "| HNL| N651BR| 2173|\n",
            "| HNL| N654BR| 2138|\n",
            "| DTW|      0| 2108|\n",
            "| HNL| N693BR| 2067|\n",
            "| DCA|      0| 2062|\n",
            "| HNL| N479HA| 2038|\n",
            "| HNL| N478HA| 2024|\n",
            "| HNL| N485HA| 1984|\n",
            "| HNL| N480HA| 1976|\n",
            "| IAH|      0| 1967|\n",
            "| HNL| N484HA| 1944|\n",
            "+----+-------+-----+\n",
            "only showing top 20 rows\n",
            "\n"
          ]
        }
      ],
      "execution_count": 21
    },
    {
      "cell_type": "code",
      "source": [
        "#requirement 2\n",
        "#Find out the cancelled flight  details for the last quarter of the year 2007\n",
        "\n",
        "df.filter(df.Year == 2007).filter(df.Month.isin([10,11,12])).filter(df.Cancelled == 1).show()"
      ],
      "metadata": {
        "application/vnd.databricks.v1+cell": {
          "title": "",
          "showTitle": false,
          "inputWidgets": {},
          "nuid": "adf19ef9-7497-4512-a480-25e3f5c41fed"
        },
        "colab": {
          "base_uri": "https://localhost:8080/"
        },
        "id": "9Vg16maZNvMN",
        "outputId": "1468bad2-f443-42cd-c6ae-a0c0067b14ff"
      },
      "outputs": [
        {
          "output_type": "stream",
          "name": "stdout",
          "text": [
            "+----+-----+----------+---------+-------+----------+-------+----------+-------------+---------+-------+-----------------+--------------+-------+--------+--------+------+----+--------+------+-------+---------+----------------+--------+------------+------------+--------+-------------+-----------------+\n",
            "|Year|Month|DayofMonth|DayOfWeek|DepTime|CRSDepTime|ArrTime|CRSArrTime|UniqueCarrier|FlightNum|TailNum|ActualElapsedTime|CRSElapsedTime|AirTime|ArrDelay|DepDelay|Origin|Dest|Distance|TaxiIn|TaxiOut|Cancelled|CancellationCode|Diverted|CarrierDelay|WeatherDelay|NASDelay|SecurityDelay|LateAircraftDelay|\n",
            "+----+-----+----------+---------+-------+----------+-------+----------+-------------+---------+-------+-----------------+--------------+-------+--------+--------+------+----+--------+------+-------+---------+----------------+--------+------------+------------+--------+-------------+-----------------+\n",
            "|2007|   10|         2|        2|     NA|      1930|     NA|      2150|           WN|      195|      0|               NA|            80|     NA|      NA|      NA|   LAS| ABQ|     487|     0|      0|        1|               A|       0|           0|           0|       0|            0|                0|\n",
            "|2007|   10|         2|        2|     NA|      2105|     NA|      2210|           WN|      710|      0|               NA|            65|     NA|      NA|      NA|   LAS| LAX|     236|     0|      0|        1|               A|       0|           0|           0|       0|            0|                0|\n",
            "|2007|   10|         2|        2|     NA|      1555|     NA|      2125|           WN|     1191|      0|               NA|           210|     NA|      NA|      NA|   LAS| MDW|    1521|     0|      0|        1|               B|       0|           0|           0|       0|            0|                0|\n",
            "|2007|   10|         2|        2|     NA|       730|     NA|       840|           WN|      514|      0|               NA|            70|     NA|      NA|      NA|   LAS| PHX|     256|     0|      0|        1|               A|       0|           0|           0|       0|            0|                0|\n",
            "|2007|   10|         2|        2|     NA|       635|     NA|       810|           WN|     1799|      0|               NA|            95|     NA|      NA|      NA|   LAS| SFO|     414|     0|      0|        1|               A|       0|           0|           0|       0|            0|                0|\n",
            "|2007|   10|         2|        2|     NA|      1845|     NA|      2010|           WN|       30|      0|               NA|            85|     NA|      NA|      NA|   LAS| SMF|     397|     0|      0|        1|               A|       0|           0|           0|       0|            0|                0|\n",
            "|2007|   10|         2|        2|     NA|      1940|     NA|      2040|           WN|      507|      0|               NA|            60|     NA|      NA|      NA|   LAX| LAS|     236|     0|      0|        1|               A|       0|           0|           0|       0|            0|                0|\n",
            "|2007|   10|         2|        2|     NA|      2030|     NA|      2140|           WN|      449|      0|               NA|            70|     NA|      NA|      NA|   LAX| OAK|     337|     0|      0|        1|               A|       0|           0|           0|       0|            0|                0|\n",
            "|2007|   10|         2|        2|     NA|      2025|     NA|      2140|           WN|      820|      0|               NA|            75|     NA|      NA|      NA|   LAX| PHX|     370|     0|      0|        1|               A|       0|           0|           0|       0|            0|                0|\n",
            "|2007|   10|         2|        2|     NA|      1520|     NA|      1640|           WN|     1036|      0|               NA|            80|     NA|      NA|      NA|   MCI| MDW|     405|     0|      0|        1|               A|       0|           0|           0|       0|            0|                0|\n",
            "|2007|   10|         2|        2|     NA|      1430|     NA|      1605|           WN|     1243|      0|               NA|           155|     NA|      NA|      NA|   MCO| MDW|     989|     0|      0|        1|               B|       0|           0|           0|       0|            0|                0|\n",
            "|2007|   10|         2|        2|     NA|       830|     NA|      1035|           WN|     1804|      0|               NA|            65|     NA|      NA|      NA|   MDW| CLE|     307|     0|      0|        1|               B|       0|           0|           0|       0|            0|                0|\n",
            "|2007|   10|         2|        2|     NA|      1355|     NA|      1545|           WN|     2010|      0|               NA|           230|     NA|      NA|      NA|   MDW| LAS|    1521|     0|      0|        1|               B|       0|           0|           0|       0|            0|                0|\n",
            "|2007|   10|         2|        2|     NA|       855|     NA|       955|           WN|     1235|      0|               NA|            60|     NA|      NA|      NA|   MDW| STL|     251|     0|      0|        1|               B|       0|           0|           0|       0|            0|                0|\n",
            "|2007|   10|         2|        2|     NA|      1855|     NA|      2000|           WN|     1970|      0|               NA|            65|     NA|      NA|      NA|   OAK| BUR|     325|     0|      0|        1|               A|       0|           0|           0|       0|            0|                0|\n",
            "|2007|   10|         2|        2|     NA|      2000|     NA|      2120|           WN|      336|      0|               NA|            80|     NA|      NA|      NA|   OAK| LAX|     337|     0|      0|        1|               A|       0|           0|           0|       0|            0|                0|\n",
            "|2007|   10|         2|        2|     NA|      1800|     NA|      1915|           WN|      507|      0|               NA|            75|     NA|      NA|      NA|   OAK| LAX|     337|     0|      0|        1|               A|       0|           0|           0|       0|            0|                0|\n",
            "|2007|   10|         2|        2|     NA|      1215|     NA|      1330|           WN|     2843|      0|               NA|            75|     NA|      NA|      NA|   OAK| ONT|     361|     0|      0|        1|               A|       0|           0|           0|       0|            0|                0|\n",
            "|2007|   10|         2|        2|     NA|      1900|     NA|      1955|           WN|      162|      0|               NA|            55|     NA|      NA|      NA|   ONT| LAS|     197|     0|      0|        1|               A|       0|           0|           0|       0|            0|                0|\n",
            "|2007|   10|         2|        2|     NA|      1355|     NA|      1510|           WN|     2980|      0|               NA|            75|     NA|      NA|      NA|   ONT| SMF|     389|     0|      0|        1|               A|       0|           0|           0|       0|            0|                0|\n",
            "+----+-----+----------+---------+-------+----------+-------+----------+-------------+---------+-------+-----------------+--------------+-------+--------+--------+------+----+--------+------+-------+---------+----------------+--------+------------+------------+--------+-------------+-----------------+\n",
            "only showing top 20 rows\n",
            "\n"
          ]
        }
      ],
      "execution_count": 22
    },
    {
      "cell_type": "code",
      "source": [
        "#Requirement 3\n",
        "#Find out the average weather delays for a particular flight per month\n",
        "\n",
        "df.groupBy('FlightNum', 'Month').agg(round(avg('WeatherDelay'),2).alias(\"Average Delay\")).show()"
      ],
      "metadata": {
        "application/vnd.databricks.v1+cell": {
          "title": "",
          "showTitle": false,
          "inputWidgets": {},
          "nuid": "bbdf226e-3f55-4304-b404-ac36214c732f"
        },
        "colab": {
          "base_uri": "https://localhost:8080/"
        },
        "id": "ODgqU3n4NvMR",
        "outputId": "95ac038c-6392-4be5-8400-c63e04fb28e2"
      },
      "outputs": [
        {
          "output_type": "stream",
          "name": "stdout",
          "text": [
            "+---------+-----+-------------+\n",
            "|FlightNum|Month|Average Delay|\n",
            "+---------+-----+-------------+\n",
            "|     1504|    1|          0.0|\n",
            "|     1384|    1|          0.0|\n",
            "|     1161|    1|         1.04|\n",
            "|      307|    1|         0.59|\n",
            "|     2781|    1|         0.14|\n",
            "|     2141|    1|          0.0|\n",
            "|     2395|    1|         0.16|\n",
            "|     2566|    1|         0.09|\n",
            "|     2328|    1|         1.87|\n",
            "|     2599|    1|          0.0|\n",
            "|     2509|    1|         1.45|\n",
            "|     1655|    1|          0.0|\n",
            "|     3021|    1|          0.0|\n",
            "|     3231|    1|         0.34|\n",
            "|     7152|    1|          0.0|\n",
            "|     7405|    1|          0.0|\n",
            "|     5296|    1|         1.78|\n",
            "|     5373|    1|         3.52|\n",
            "|     5193|    1|         2.98|\n",
            "|     5014|    1|          0.0|\n",
            "+---------+-----+-------------+\n",
            "only showing top 20 rows\n",
            "\n"
          ]
        }
      ],
      "execution_count": 23
    },
    {
      "cell_type": "code",
      "source": [
        "#Requirement 4\n",
        "#Inspite of CarrierDelay, NASDelay, SecurityDelay, LateAircraftDelay,Weatherdelay which flight reached on time\n",
        "\n",
        "df.filter((df.CarrierDelay > 0) | (df.WeatherDelay > 0) | (df.NASDelay > 0) | (df.SecurityDelay > 0) | (df.LateAircraftDelay > 0)).filter(df.ArrDelay <= 0).show()"
      ],
      "metadata": {
        "application/vnd.databricks.v1+cell": {
          "title": "",
          "showTitle": false,
          "inputWidgets": {},
          "nuid": "b8ca463c-266a-4cdd-a686-794457c6797b"
        },
        "colab": {
          "base_uri": "https://localhost:8080/"
        },
        "id": "Fqk8deJyNvMU",
        "outputId": "1db6a74f-3ebb-4bb1-a460-4da1cb6fb817"
      },
      "outputs": [
        {
          "output_type": "stream",
          "name": "stdout",
          "text": [
            "+----+-----+----------+---------+-------+----------+-------+----------+-------------+---------+-------+-----------------+--------------+-------+--------+--------+------+----+--------+------+-------+---------+----------------+--------+------------+------------+--------+-------------+-----------------+\n",
            "|Year|Month|DayofMonth|DayOfWeek|DepTime|CRSDepTime|ArrTime|CRSArrTime|UniqueCarrier|FlightNum|TailNum|ActualElapsedTime|CRSElapsedTime|AirTime|ArrDelay|DepDelay|Origin|Dest|Distance|TaxiIn|TaxiOut|Cancelled|CancellationCode|Diverted|CarrierDelay|WeatherDelay|NASDelay|SecurityDelay|LateAircraftDelay|\n",
            "+----+-----+----------+---------+-------+----------+-------+----------+-------------+---------+-------+-----------------+--------------+-------+--------+--------+------+----+--------+------+-------+---------+----------------+--------+------------+------------+--------+-------------+-----------------+\n",
            "+----+-----+----------+---------+-------+----------+-------+----------+-------------+---------+-------+-----------------+--------------+-------+--------+--------+------+----+--------+------+-------+---------+----------------+--------+------------+------------+--------+-------------+-----------------+\n",
            "\n"
          ]
        }
      ],
      "execution_count": 24
    },
    {
      "cell_type": "code",
      "source": [
        "#Requirement 5\n",
        "#Month wise total distance travelled by each flight number in every month\n",
        "\n",
        "df.groupBy('FlightNum', 'Month').agg(sum('Distance').alias(\"Total Distance\")).show()"
      ],
      "metadata": {
        "application/vnd.databricks.v1+cell": {
          "title": "",
          "showTitle": false,
          "inputWidgets": {},
          "nuid": "128235ce-c62a-46c4-b9d4-cb08cb2511a8"
        },
        "colab": {
          "base_uri": "https://localhost:8080/"
        },
        "id": "OL9qT_bGNvMY",
        "outputId": "ea1d516a-3e8a-4f63-c53a-76f879d000f6"
      },
      "outputs": [
        {
          "output_type": "stream",
          "name": "stdout",
          "text": [
            "+---------+-----+--------------+\n",
            "|FlightNum|Month|Total Distance|\n",
            "+---------+-----+--------------+\n",
            "|     1504|    1|         85915|\n",
            "|     1384|    1|         26070|\n",
            "|     1161|    1|        172275|\n",
            "|      307|    1|        218173|\n",
            "|     2781|    1|         38181|\n",
            "|     2141|    1|         44717|\n",
            "|     2395|    1|         41289|\n",
            "|     2566|    1|         22842|\n",
            "|     2328|    1|         61944|\n",
            "|     2599|    1|         12066|\n",
            "|     2509|    1|         31729|\n",
            "|     1655|    1|         58396|\n",
            "|     3021|    1|         17631|\n",
            "|     3231|    1|          5498|\n",
            "|     7152|    1|         12519|\n",
            "|     7405|    1|         14604|\n",
            "|     5296|    1|          3627|\n",
            "|     5373|    1|          8250|\n",
            "|     5193|    1|         33124|\n",
            "|     5014|    1|           834|\n",
            "+---------+-----+--------------+\n",
            "only showing top 20 rows\n",
            "\n"
          ]
        }
      ],
      "execution_count": 25
    },
    {
      "cell_type": "code",
      "source": [
        "#Requirement 6\n",
        "#Month wise how many flights get diverted(origin to destination)\n",
        "\n",
        "df.filter(df.Diverted == 1).groupBy('Month').agg(count('FlightNum').alias('Flights Diverted')).orderBy('Month').show()"
      ],
      "metadata": {
        "application/vnd.databricks.v1+cell": {
          "title": "",
          "showTitle": false,
          "inputWidgets": {},
          "nuid": "0253a19c-d79c-4127-b12b-0534ed567a51"
        },
        "colab": {
          "base_uri": "https://localhost:8080/"
        },
        "id": "nDbn0cPeNvMd",
        "outputId": "1bff15b9-3828-4206-94d6-9a1b15c2aa4e"
      },
      "outputs": [
        {
          "output_type": "stream",
          "name": "stdout",
          "text": [
            "+-----+----------------+\n",
            "|Month|Flights Diverted|\n",
            "+-----+----------------+\n",
            "|    1|            1200|\n",
            "|    2|            1261|\n",
            "|    3|            1275|\n",
            "|    4|            1193|\n",
            "|    5|            1442|\n",
            "|    6|            2199|\n",
            "|    7|            2150|\n",
            "|    8|            2101|\n",
            "|    9|             962|\n",
            "|   10|            1000|\n",
            "|   11|             881|\n",
            "|   12|            1515|\n",
            "+-----+----------------+\n",
            "\n"
          ]
        }
      ],
      "execution_count": 26
    },
    {
      "cell_type": "code",
      "source": [
        "#Requirement 7\n",
        "#Week and month wise number of trips in all the flights\n",
        "\n",
        "from pyspark.sql.functions import when\n",
        "df2 = df.withColumn(\"Week\",when((df.DayofMonth >= 1) & (df.DayofMonth <= 7), 1).when((df.DayofMonth >= 8) & (df.DayofMonth <= 14), 2).when((df.DayofMonth >= 15) & (df.DayofMonth <= 21), 3).when((df.DayofMonth >= 22) & (df.DayofMonth <= 28), 4).when((df.DayofMonth >= 29) & (df.DayofMonth <= 31), 5).otherwise('other'))\n",
        "df2.filter(df2.Cancelled == 0).groupBy('Month', 'Week').agg(count('FlightNum').alias(\"No_Of_Flights\")).orderBy('Month', 'Week').show()"
      ],
      "metadata": {
        "application/vnd.databricks.v1+cell": {
          "title": "",
          "showTitle": false,
          "inputWidgets": {},
          "nuid": "b98ca4d0-4ced-462d-b7f5-6ddc9e095834"
        },
        "colab": {
          "base_uri": "https://localhost:8080/"
        },
        "id": "RG4NydIFNvMi",
        "outputId": "e49ee70e-de3b-4596-afd0-8c029449ff3b"
      },
      "outputs": [
        {
          "output_type": "stream",
          "name": "stdout",
          "text": [
            "+-----+----+-------------+\n",
            "|Month|Week|No_Of_Flights|\n",
            "+-----+----+-------------+\n",
            "|    1|   1|       139114|\n",
            "|    1|   2|       134874|\n",
            "|    1|   3|       133690|\n",
            "|    1|   4|       137875|\n",
            "|    1|   5|        60229|\n",
            "|    2|   1|       134924|\n",
            "|    2|   2|       129914|\n",
            "|    2|   3|       138929|\n",
            "|    2|   4|       136372|\n",
            "|    3|   1|       139401|\n",
            "|    3|   2|       142861|\n",
            "|    3|   3|       138140|\n",
            "|    3|   4|       142412|\n",
            "|    3|   5|        59518|\n",
            "|    4|   1|       142217|\n",
            "|    4|   2|       140864|\n",
            "|    4|   3|       140149|\n",
            "|    4|   4|       139503|\n",
            "|    4|   5|        40777|\n",
            "|    5|   1|       141346|\n",
            "+-----+----+-------------+\n",
            "only showing top 20 rows\n",
            "\n"
          ]
        }
      ],
      "execution_count": 27
    },
    {
      "cell_type": "code",
      "source": [
        "#Requirement 8\n",
        "#Which flights covered maximum origin and destination by month wise\n",
        "\n",
        "from pyspark.sql.functions import countDistinct, desc\n",
        "from pyspark.sql.window import Window\n",
        "from pyspark.sql.functions import col, row_number"
      ],
      "metadata": {
        "application/vnd.databricks.v1+cell": {
          "title": "",
          "showTitle": false,
          "inputWidgets": {},
          "nuid": "6436b1f6-d400-4f47-ac3d-91c5af716aab"
        },
        "id": "FVbYVM1nNvMl"
      },
      "outputs": [],
      "execution_count": 28
    },
    {
      "cell_type": "code",
      "source": [
        "df2 = df.filter(df.Cancelled == 0).groupBy('Month', 'FlightNum').agg(countDistinct('Origin').alias(\"Max_Origins\")).sort('Month', desc('Max_Origins'))\n",
        "windowDept = Window.partitionBy('Month').orderBy(col(\"Max_Origins\").desc())\n",
        "df2.withColumn(\"row\",row_number().over(windowDept)).filter(col(\"row\") == 1).drop(\"row\").show()"
      ],
      "metadata": {
        "application/vnd.databricks.v1+cell": {
          "title": "",
          "showTitle": false,
          "inputWidgets": {},
          "nuid": "3a4292b2-5437-4ccd-8ea3-c94d3649598e"
        },
        "colab": {
          "base_uri": "https://localhost:8080/"
        },
        "id": "9QDF0e3TNvMn",
        "outputId": "9d8ccf89-9618-4273-809e-3522d9a2f78c"
      },
      "outputs": [
        {
          "output_type": "stream",
          "name": "stdout",
          "text": [
            "+-----+---------+-----------+\n",
            "|Month|FlightNum|Max_Origins|\n",
            "+-----+---------+-----------+\n",
            "|    1|      433|         18|\n",
            "|    2|      500|         18|\n",
            "|    3|      644|         18|\n",
            "|    4|      644|         17|\n",
            "|    5|      644|         17|\n",
            "|    6|      226|         18|\n",
            "|    7|      425|         17|\n",
            "|    8|       67|         18|\n",
            "|    9|       62|         20|\n",
            "|   10|       66|         20|\n",
            "|   11|      303|         21|\n",
            "|   12|      151|         22|\n",
            "+-----+---------+-----------+\n",
            "\n"
          ]
        }
      ],
      "execution_count": 29
    },
    {
      "cell_type": "code",
      "source": [
        "df2 = df.filter(df.Cancelled == 0).groupBy('Month', 'FlightNum').agg(countDistinct('Dest').alias(\"Max_Dest\")).sort('Month', desc('Max_Dest'))\n",
        "windowDept = Window.partitionBy('Month').orderBy(col(\"Max_Dest\").desc())\n",
        "df2.withColumn(\"row\",row_number().over(windowDept)).filter(col(\"row\") == 1).drop(\"row\").show()"
      ],
      "metadata": {
        "application/vnd.databricks.v1+cell": {
          "title": "",
          "showTitle": false,
          "inputWidgets": {},
          "nuid": "0ee5dca2-db18-4778-90ee-d0840c012df8"
        },
        "colab": {
          "base_uri": "https://localhost:8080/"
        },
        "id": "8LacSwaDNvM1",
        "outputId": "72510800-f0b5-4a7c-90cb-2aa7a89d2edb"
      },
      "outputs": [
        {
          "output_type": "stream",
          "name": "stdout",
          "text": [
            "+-----+---------+--------+\n",
            "|Month|FlightNum|Max_Dest|\n",
            "+-----+---------+--------+\n",
            "|    1|      372|      18|\n",
            "|    2|      432|      17|\n",
            "|    3|      432|      17|\n",
            "|    4|      473|      17|\n",
            "|    5|      644|      19|\n",
            "|    6|      308|      18|\n",
            "|    7|      425|      17|\n",
            "|    8|       67|      18|\n",
            "|    9|      385|      18|\n",
            "|   10|       66|      20|\n",
            "|   11|      303|      21|\n",
            "|   12|      151|      20|\n",
            "+-----+---------+--------+\n",
            "\n"
          ]
        }
      ],
      "execution_count": 30
    },
    {
      "cell_type": "code",
      "source": [
        "#Requirement 9\n",
        "#Average month wise arrival delay (flightnum wise)\n",
        "\n",
        "df.groupBy('FlightNum', 'Month').agg(round(avg('ArrDelay'), 2).alias('Average Arrival Delay')).orderBy('FlightNum', 'Month').show()"
      ],
      "metadata": {
        "application/vnd.databricks.v1+cell": {
          "title": "",
          "showTitle": false,
          "inputWidgets": {},
          "nuid": "bec7f6d9-566f-4dfc-930b-45a94488ea07"
        },
        "colab": {
          "base_uri": "https://localhost:8080/"
        },
        "id": "AelHX1l3NvM8",
        "outputId": "6a565cc3-96cd-4f62-ccd8-672664a93d78"
      },
      "outputs": [
        {
          "output_type": "stream",
          "name": "stdout",
          "text": [
            "+---------+-----+---------------------+\n",
            "|FlightNum|Month|Average Arrival Delay|\n",
            "+---------+-----+---------------------+\n",
            "|        1|    1|                10.72|\n",
            "|        1|    2|                18.31|\n",
            "|        1|    3|                 8.58|\n",
            "|        1|    4|                 1.68|\n",
            "|        1|    5|                 3.22|\n",
            "|        1|    6|                 9.65|\n",
            "|        1|    7|                 6.44|\n",
            "|        1|    8|                 8.57|\n",
            "|        1|    9|                 1.27|\n",
            "|        1|   10|                 7.06|\n",
            "|        1|   11|                -1.47|\n",
            "|        1|   12|                 8.18|\n",
            "|        2|    1|                10.94|\n",
            "|        2|    2|                 6.04|\n",
            "|        2|    3|                 9.85|\n",
            "|        2|    4|                 2.57|\n",
            "|        2|    5|                 5.28|\n",
            "|        2|    6|                15.55|\n",
            "|        2|    7|                10.87|\n",
            "|        2|    8|                 9.39|\n",
            "+---------+-----+---------------------+\n",
            "only showing top 20 rows\n",
            "\n"
          ]
        }
      ],
      "execution_count": 31
    },
    {
      "cell_type": "code",
      "source": [
        "#Requirement 10\n",
        "#Average month wise departure delay (flightnum wise)\n",
        "\n",
        "df.groupBy('FlightNum', 'Month').agg(round(avg('DepDelay'), 2).alias('Average Departure Delay')).orderBy('FlightNum', 'Month').show()"
      ],
      "metadata": {
        "application/vnd.databricks.v1+cell": {
          "title": "",
          "showTitle": false,
          "inputWidgets": {},
          "nuid": "591ee79d-f4aa-451c-af46-289bee9cc944"
        },
        "colab": {
          "base_uri": "https://localhost:8080/"
        },
        "id": "ivp8ciBdNvNB",
        "outputId": "0a06a067-2523-443b-cd0f-48c9057f3664"
      },
      "outputs": [
        {
          "output_type": "stream",
          "name": "stdout",
          "text": [
            "+---------+-----+-----------------------+\n",
            "|FlightNum|Month|Average Departure Delay|\n",
            "+---------+-----+-----------------------+\n",
            "|        1|    1|                   9.85|\n",
            "|        1|    2|                  16.93|\n",
            "|        1|    3|                  11.17|\n",
            "|        1|    4|                   5.62|\n",
            "|        1|    5|                   3.71|\n",
            "|        1|    6|                  12.01|\n",
            "|        1|    7|                   9.79|\n",
            "|        1|    8|                  10.46|\n",
            "|        1|    9|                   4.58|\n",
            "|        1|   10|                   9.89|\n",
            "|        1|   11|                   3.94|\n",
            "|        1|   12|                  10.61|\n",
            "|        2|    1|                  12.22|\n",
            "|        2|    2|                   8.56|\n",
            "|        2|    3|                   7.49|\n",
            "|        2|    4|                    3.6|\n",
            "|        2|    5|                   3.96|\n",
            "|        2|    6|                  11.51|\n",
            "|        2|    7|                   8.07|\n",
            "|        2|    8|                   9.33|\n",
            "+---------+-----+-----------------------+\n",
            "only showing top 20 rows\n",
            "\n"
          ]
        }
      ],
      "execution_count": 32
    },
    {
      "cell_type": "code",
      "source": [
        ""
      ],
      "metadata": {
        "id": "ptaoObUZmSwc"
      },
      "execution_count": null,
      "outputs": []
    }
  ],
  "metadata": {
    "application/vnd.databricks.v1+notebook": {
      "notebookName": "2007CSV",
      "dashboards": [],
      "notebookMetadata": {
        "pythonIndentUnit": 4
      },
      "language": "python",
      "widgets": {},
      "notebookOrigID": 3921313522651243
    },
    "colab": {
      "name": "Mini Project.ipynb",
      "provenance": []
    },
    "language_info": {
      "name": "python"
    },
    "kernelspec": {
      "name": "python3",
      "display_name": "Python 3"
    }
  },
  "nbformat": 4,
  "nbformat_minor": 0
}